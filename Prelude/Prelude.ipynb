{
 "cells": [
  {
   "cell_type": "markdown",
   "metadata": {},
   "source": [
    "# <center>Prelude to Machine Learning</center>\n",
    "---"
   ]
  },
  {
   "cell_type": "markdown",
   "metadata": {},
   "source": [
    "### What is Machine Learning?\n",
    "Machine Learning is branch of cumputer science allows computer to learn from data.\n"
   ]
  },
  {
   "cell_type": "markdown",
   "metadata": {},
   "source": [
    "---\n",
    "##  1. Types of machine learning systems"
   ]
  },
  {
   "cell_type": "markdown",
   "metadata": {},
   "source": [
    "#### **Machine learning systems can by classify by**: ####\n",
    " 1. Human supervision\n",
    " 2. Way of learning\n",
    " 3. Type of work"
   ]
  },
  {
   "cell_type": "markdown",
   "metadata": {},
   "source": [
    "### **1.1. Human supervision** ###\n",
    "Machine learning systems can by divide, based on level and method of human supervision:\n",
    " * supervised learning\n",
    " * unsupervided learning\n",
    " * semisupervised learning\n",
    " * reinforcement learning"
   ]
  },
  {
   "cell_type": "markdown",
   "metadata": {},
   "source": [
    "**Supervised learning**\\\n",
    "Supervised learning base on providing to algorithm datasets and their labels. In many cases supervised learning is used for classification and prediction.\n",
    "Mostly known algorithms of supervised learning:\n",
    " + k-nearest neighbors \n",
    " + linear regression\n",
    " + logistic regression\n",
    " + support vector machines\n",
    " + decision trees and random forests\n",
    " + neural networks"
   ]
  },
  {
   "cell_type": "markdown",
   "metadata": {},
   "source": [
    "**Unsupervised learning**\\\n",
    "In unsupervised learning data provided to algorithm are not labeled, so system try to learn without supervising.\n",
    "Most important algorithms of unsupervised learning are:\n",
    "Clustering\n",
    " +  k-means\n",
    " +  hierarchical cluster analysis (HCA)\n",
    " +  expectation maximization\n",
    "Visualizaton and dimension reduction\n",
    " +  principal component analysis (PCA)\n",
    " +  pernel PCA\n",
    " +  locally-linear embedding (LLE)\n",
    " +  t-distributed stochastic neighbor embedding (t-SNE)\n",
    "Association rule learning\n",
    " + Aprioti algorithm\n",
    " + Eclat algorithm"
   ]
  },
  {
   "cell_type": "markdown",
   "metadata": {},
   "source": [
    "**Semisupervised learning**\\\n",
    "Algorithm learning from partially labeled training data. In most cases a lot of unlabelled data, and a little bit of labeled ones.\n",
    "Majority of methods used in semisupervised learning are combination of supervised and unsupervised:\n",
    " +  deep belief networks (DBN)\n",
    " +  restricted boltzmann machined (RBM)"
   ]
  },
  {
   "cell_type": "markdown",
   "metadata": {},
   "source": [
    "**Reinforcement learning**\\\n",
    "System in reinforcement is called agent. Agent can observer enviroment select and perform actions, and gets rewards or penalties in return. Based on maked decision, system learn by itself best strategy, called policy."
   ]
  },
  {
   "cell_type": "markdown",
   "metadata": {},
   "source": [
    "### **1.2. Way of learning** ###\n",
    "In this criteria, machine learning systems are divided by those who can learn incrementally from a stream of data, and those who can't:\n",
    " * batch learning\n",
    " * online learning"
   ]
  },
  {
   "cell_type": "markdown",
   "metadata": {},
   "source": [
    "**Batch learning**\\\n",
    "In batch learning, system can't learn incrementally from incoming data, so it must be trained using all of available data at once. This way of learning can take a lot of time and computing resources, so all process is typically done offilne. If system want know about all new data, it has to be trained from scratch on the full dataset."
   ]
  },
  {
   "cell_type": "markdown",
   "metadata": {},
   "source": [
    "**Online learning**\\\n",
    "In online learning, system is trained incrementally by feeding it new datasets onine. Training data can be provided sequentially, individually or by small groups. Choosing online learning is good, when system works on machine that has limited computing resources."
   ]
  },
  {
   "cell_type": "markdown",
   "metadata": {},
   "source": [
    "### **1.3 Type of work** ###\n",
    "Machine learning systems can by categorized by how they generalize to examples it has never seen before.\n",
    " * instance-based learning\n",
    " * model-based learning"
   ]
  },
  {
   "cell_type": "markdown",
   "metadata": {},
   "source": [
    "**Instance-based learning**\\\n",
    "In this type of work, system learn examples given in training data by hear, it means a new examples provided to system will be compared with already learned examples by similarity measures."
   ]
  },
  {
   "cell_type": "markdown",
   "metadata": {},
   "source": [
    "**Model-based learning**\\\n",
    "Another way to generalize new set of examples is build a model of these examples, then use that model to make predictions for new examples."
   ]
  },
  {
   "cell_type": "markdown",
   "metadata": {},
   "source": [
    "---\n",
    "##  2. Machine learning problems"
   ]
  },
  {
   "cell_type": "markdown",
   "metadata": {},
   "source": [
    "1. Insufficient quantity of training data\n",
    "2. Nonrepresentative training data\n",
    "3. Poor quality  of data\n",
    "4. Irrelevant features\n",
    "5. Overfitting the training data\n",
    "6. Underfitting the training data"
   ]
  },
  {
   "cell_type": "markdown",
   "metadata": {},
   "source": [
    "---\n",
    "##  3. Machine learning projects milestones"
   ]
  },
  {
   "cell_type": "markdown",
   "metadata": {},
   "source": [
    "1. Analyse of problem\n",
    "2. Get the data\n",
    "3. Discoved and visualize data\n",
    "4. Prepare the data for algorithms\n",
    "5. Select model and train it\n",
    "6. Tune the model\n",
    "7. Present solution\n",
    "8. Launch, monitor and maintain system"
   ]
  }
 ],
 "metadata": {
  "kernelspec": {
   "display_name": "Python 3",
   "language": "python",
   "name": "python3"
  },
  "language_info": {
   "codemirror_mode": {
    "name": "ipython",
    "version": 3
   },
   "file_extension": ".py",
   "mimetype": "text/x-python",
   "name": "python",
   "nbconvert_exporter": "python",
   "pygments_lexer": "ipython3",
   "version": "3.7.4"
  }
 },
 "nbformat": 4,
 "nbformat_minor": 2
}
